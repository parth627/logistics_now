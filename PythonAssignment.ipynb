{
 "cells": [
  {
   "cell_type": "code",
   "execution_count": 1,
   "metadata": {},
   "outputs": [],
   "source": [
    "# Implement the function find_roots to find the roots of the quadratic equation: ax2+bx+c = 0. \n",
    "# The function should return a tuple containing roots in any order.\n",
    "#  If the equation has only one solution, the function should return that solution as both elements of the tuple. \n",
    "\n",
    "# The equation will always have at least one solution. \n",
    "# The roots of the quadratic equation can be found with the following formula: x,1,2 = -b ± √b2 - 4ac / 2a.\n",
    "# For example, find_roots(2,10,8) should return (-1,-4) or (-4,-1) as the roots of the equation 2x2 + 10x = 8 = 0 are -1 and -4 "
   ]
  },
  {
   "cell_type": "code",
   "execution_count": 2,
   "metadata": {},
   "outputs": [],
   "source": [
    "# find_roots method will find the roots of the qudratic function ax2+bx+c = 0\n",
    "def find_roots(a, b, c):\n",
    "    if a == 0 and b == 0:\n",
    "        print(\"Invalid arguments: 'a' and 'b' cannot be zero simultaneously\")\n",
    "        return None\n",
    "    \n",
    "    if a == 0:\n",
    "        print(\"Invalid arguments: 'a' cannot be zero\")\n",
    "        return None\n",
    "    \n",
    "    D = b**2 - 4*a*c\n",
    "\n",
    "    if D < 0:\n",
    "        print(\"Complex roots\")\n",
    "        return None\n",
    "    \n",
    "    root_square_D = abs(D) ** 0.5\n",
    "\n",
    "    if b == 0:\n",
    "        x = y = -c / a\n",
    "    else:\n",
    "        x = (-b + root_square_D) / (2*a)\n",
    "        y = (-b - root_square_D) / (2*a)\n",
    "    \n",
    "    return (x, y)"
   ]
  },
  {
   "cell_type": "code",
   "execution_count": 3,
   "metadata": {},
   "outputs": [
    {
     "name": "stdout",
     "output_type": "stream",
     "text": [
      "Roots: (-1.0, -4.0)\n"
     ]
    }
   ],
   "source": [
    "# Testing all use cases:\n",
    "\n",
    "roots = find_roots(2, 10, 8)\n",
    "if roots:\n",
    "    print(\"Roots:\", roots)"
   ]
  },
  {
   "cell_type": "code",
   "execution_count": 4,
   "metadata": {},
   "outputs": [
    {
     "name": "stdout",
     "output_type": "stream",
     "text": [
      "Invalid arguments: 'a' and 'b' cannot be zero simultaneously\n",
      "No roots found\n"
     ]
    }
   ],
   "source": [
    "roots = find_roots(0, 0, 8)\n",
    "if roots:\n",
    "    print(\"Roots:\", roots)\n",
    "else:\n",
    "    print(\"No roots found\")"
   ]
  },
  {
   "cell_type": "code",
   "execution_count": 5,
   "metadata": {},
   "outputs": [
    {
     "name": "stdout",
     "output_type": "stream",
     "text": [
      "Invalid arguments: 'a' cannot be zero\n"
     ]
    }
   ],
   "source": [
    "roots = find_roots(0, 10, 8)\n",
    "if roots:\n",
    "    print(\"Roots:\", roots)"
   ]
  },
  {
   "cell_type": "code",
   "execution_count": 6,
   "metadata": {},
   "outputs": [
    {
     "name": "stdout",
     "output_type": "stream",
     "text": [
      "Complex roots\n"
     ]
    }
   ],
   "source": [
    "roots = find_roots(1, 2, 5)\n",
    "if roots:\n",
    "    print(\"Roots:\", roots)"
   ]
  },
  {
   "cell_type": "code",
   "execution_count": null,
   "metadata": {},
   "outputs": [],
   "source": []
  }
 ],
 "metadata": {
  "kernelspec": {
   "display_name": "Python 3",
   "language": "python",
   "name": "python3"
  },
  "language_info": {
   "codemirror_mode": {
    "name": "ipython",
    "version": 3
   },
   "file_extension": ".py",
   "mimetype": "text/x-python",
   "name": "python",
   "nbconvert_exporter": "python",
   "pygments_lexer": "ipython3",
   "version": "3.9.6"
  }
 },
 "nbformat": 4,
 "nbformat_minor": 2
}
